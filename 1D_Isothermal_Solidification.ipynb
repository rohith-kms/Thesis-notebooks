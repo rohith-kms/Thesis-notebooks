{
 "cells": [
  {
   "cell_type": "markdown",
   "metadata": {},
   "source": [
    "## Isothermal alloy solidification - (Fe-Cr)\n",
    "\n",
    "Here, we simulate Fe-Cr alloy solidification using phase field method. We use the grand potential formulation to solve for the composition fields. Free energies taken from Fe-Cr_PhaseDiag.ipynb (parabolic approximations)"
   ]
  },
  {
   "cell_type": "code",
   "execution_count": 1,
   "metadata": {},
   "outputs": [],
   "source": [
    "import numpy as np\n",
    "import matplotlib.pyplot as plt"
   ]
  },
  {
   "cell_type": "markdown",
   "metadata": {},
   "source": [
    "Free energy densities are of the form\n",
    "\n",
    "$$f_{s/l} = a(T) x^2 + b(T) x + c(T) J/cm^3$$\n",
    "\n",
    "Where $x = X_{Cr}$. Look to Parabolic_appx_2.ipynb for more details"
   ]
  },
  {
   "cell_type": "code",
   "execution_count": 2,
   "metadata": {},
   "outputs": [],
   "source": [
    "def a_bcc(T):\n",
    "    \n",
    "    a0  = 1.48573160876362e+17\n",
    "    a1  = -533959921453932\n",
    "    a2  = 822132803086.902\n",
    "    a3  = -702980512.848244\n",
    "    a4  = 360524.747722819\n",
    "    a5  = -110.896060621478\n",
    "    a6  = 0.0189435512365575\n",
    "    a7  = -1.38632597908866e-06\n",
    "    \n",
    "    return a0+a1*T+a2*T**2+a3*T**3+a4*T**4+a5*T**5+a6*T**6+a7*T**7\n",
    "\n",
    "\n",
    "def b_bcc(T):\n",
    "    \n",
    "    a0  = -5.74988758596428e+16\n",
    "    a1  = 205888139888278\n",
    "    a2  = -315807244126.921\n",
    "    a3  = 268986846.012062\n",
    "    a4  = -137396.890145104\n",
    "    a5  = 42.0876190128756\n",
    "    a6  = -0.00715869712372715\n",
    "    a7  = 5.21561342179072e-07\n",
    "    \n",
    "    return a0+a1*T+a2*T**2+a3*T**3+a4*T**4+a5*T**5+a6*T**6+a7*T**7\n",
    "\n",
    "def c_bcc(T):\n",
    "    \n",
    "    a0  = 2.24280665461153e+15\n",
    "    a1  = -7672646510499.51\n",
    "    a2  = 11198716987.0004\n",
    "    a3  = -9033989.94168094\n",
    "    a4  = 4346.56671776632\n",
    "    a5  = -1.24600097323119\n",
    "    a6  = 0.000196784418722745\n",
    "    a7  = -1.31853064948386e-08\n",
    "    \n",
    "    return a0+a1*T+a2*T**2+a3*T**3+a4*T**4+a5*T**5+a6*T**6+a7*T**7\n",
    "\n",
    "\n",
    "def a_liq(T):\n",
    "    \n",
    "    a0  = 1.34402214639946e+17\n",
    "    a1  = -483041743694295\n",
    "    a2  = 743752241655.028\n",
    "    a3  = -635975330.764811\n",
    "    a4  = 326169.32777634\n",
    "    a5  = -100.331108793173\n",
    "    a6  = 0.0171392878798394\n",
    "    a7  = -1.25432210980197e-06\n",
    "    \n",
    "    return a0+a1*T+a2*T**2+a3*T**3+a4*T**4+a5*T**5+a6*T**6+a7*T**7\n",
    "\n",
    "def b_liq(T):\n",
    "    \n",
    "    a0  = -5.02636054089711e+16\n",
    "    a1  = 180002914938405\n",
    "    a2  = -276136627305.307\n",
    "    a3  = 235226732.682717\n",
    "    a4  = -120167.335429361\n",
    "    a5  = 36.8144381507289\n",
    "    a6  = -0.00626257159618173\n",
    "    a7  = 4.56330855404118e-07\n",
    "    \n",
    "    return a0+a1*T+a2*T**2+a3*T**3+a4*T**4+a5*T**5+a6*T**6+a7*T**7\n",
    "\n",
    "def c_liq(T):\n",
    "    \n",
    "    a0  = 2.12467464521575e+15\n",
    "    a1  = -7310151586822.15\n",
    "    a2  = 10738897653.4874\n",
    "    a3  = -8727402.7907034\n",
    "    a4  = 4235.13227776304\n",
    "    a5  = -1.22627109914018\n",
    "    a6  = 0.00019598329226659\n",
    "    a7  = -1.33213290371344e-08\n",
    "\n",
    "    return a0+a1*T+a2*T**2+a3*T**3+a4*T**4+a5*T**5+a6*T**6+a7*T**7\n"
   ]
  },
  {
   "cell_type": "code",
   "execution_count": 27,
   "metadata": {},
   "outputs": [
    {
     "name": "stdout",
     "output_type": "stream",
     "text": [
      "Energy scale = \n",
      "2122473906.9111426\n",
      "\n",
      "Length scale = \n",
      "1.507674600653627e-09\n",
      "\n",
      "Time scale = \n",
      "7.10338344205023e-10\n"
     ]
    }
   ],
   "source": [
    "# Scaling Factors\n",
    "\n",
    "# Energy\n",
    "\n",
    "R = 8.314   #J/mol/K\n",
    "T = 1810    #K\n",
    "V_m = 7.09e-6 #m^3/mol\n",
    "\n",
    "f_scale = R*T/V_m\n",
    "print(\"Energy scale = \")\n",
    "print(f_scale)\n",
    "\n",
    "# Length\n",
    "sigma = 3.2 #J/m^2\n",
    "\n",
    "l_scale = sigma/f_scale\n",
    "print(\"\\nLength scale = \")\n",
    "print(l_scale)\n",
    "\n",
    "\n",
    "# Time\n",
    "D_l = 3.2e-9 #m^2/s\n",
    "\n",
    "t_scale = l_scale**2/D_l\n",
    "print(\"\\nTime scale = \")\n",
    "print(t_scale)"
   ]
  },
  {
   "cell_type": "code",
   "execution_count": 28,
   "metadata": {},
   "outputs": [],
   "source": [
    "# Constants\n",
    "\n",
    "W = 1\n",
    "interface_width = 1e-5    #m\n",
    "ep = interface_width/2.5\n",
    "dx = interface_width/10\n",
    "\n",
    "dt = 1e-6 #s"
   ]
  },
  {
   "cell_type": "code",
   "execution_count": 29,
   "metadata": {},
   "outputs": [
    {
     "name": "stdout",
     "output_type": "stream",
     "text": [
      "5.941320582910805e-19\n",
      "1170050785.4167821\n"
     ]
    }
   ],
   "source": [
    "# Calculate Relaxation coefficient\n",
    "\n",
    "M = 0.063828\n",
    "F = 0.158741\n",
    "\n",
    "c_liq_mueq = 3.06752518e-01\n",
    "c_sol_mueq = 3.34696064e-01\n",
    "\n",
    "print(D_l/a_liq(T))\n",
    "tau = ep*(c_liq_mueq - c_sol_mueq)**2/(D_l/a_liq(T))*(M+F)\n",
    "print(tau)"
   ]
  },
  {
   "cell_type": "code",
   "execution_count": 5,
   "metadata": {},
   "outputs": [
    {
     "name": "stdout",
     "output_type": "stream",
     "text": [
      "-15642127716.58\n",
      "-15637604483.325\n"
     ]
    }
   ],
   "source": [
    "# Now, for the approximate free energies\n",
    "# Units: J/m^3\n",
    "\n",
    "def f_s(x,T):\n",
    "    \n",
    "    a = a_bcc(T)\n",
    "    b = b_bcc(T)\n",
    "    c = c_bcc(T)\n",
    "    \n",
    "    return a*x**2 + b*x + c\n",
    "\n",
    "def f_l(x,T):\n",
    "    \n",
    "    a = a_liq(T)\n",
    "    b = b_liq(T)\n",
    "    c = c_liq(T)\n",
    "    \n",
    "    return a*x**2 + b*x + c\n",
    "\n",
    "print(f_s(0.3,1800))\n",
    "print(f_l(0.3,1800))"
   ]
  },
  {
   "cell_type": "markdown",
   "metadata": {},
   "source": [
    "The chemical potential($\\mu = \\mu_{Cr} - \\mu_{Fe}$) is chosen as the independent variable (as opposed to the concentration) So, the natural choice of functional to descrube the system is the Grand Potential funcational: \n",
    "\n",
    "$$\\Omega[\\phi,T] = \\int_V \\Psi(T,\\mu,\\phi) + \\bigg( \\epsilon a(\\nabla \\phi)+ \\frac{1}{\\epsilon} w(\\phi) \\bigg) dV$$\n",
    "\n",
    "Here, $\\Psi$ is the grand potential density function given by (for one phase)\n",
    "\n",
    "$$\\Psi^{(s/l)}(\\mu,T) = \\frac{1}{V_m} \\big[ F_m^{s/l}(\\mu,T) - \\mu c^{s/l}(\\mu,T) \\big]$$\n",
    "\n",
    "$F_m$ being the molar Helmholtz free energy. We have assumed that the chemical potential function is monotonic, and hence reversible in $c$, allowing us to compute $c(\\mu)$. At the diffuse interface, the $\\Psi$ is computed as follows:\n",
    "\n",
    "$$\\Psi = \\Psi^s h_s(\\phi) + \\Psi^l (1-h_s(\\phi))$$\n",
    "\n",
    "Using an interpolation function $h_s(\\phi)$ such that $h_s(\\phi) + h_s(1-\\phi)=1$ which has value 1 at $\\phi = 1$ (solid) and 0 at $\\phi = 0$ (liquid). Further, it has the property that $\\frac{\\partial h_s}{\\partial \\phi} = 0$ at both $\\phi = 0$ and $1$. We take that function to be:\n",
    "\n",
    "$$h_s(\\phi) = \\phi^2(3-2\\phi)$$"
   ]
  },
  {
   "cell_type": "code",
   "execution_count": 6,
   "metadata": {},
   "outputs": [],
   "source": [
    "# define interpolation functions\n",
    "\n",
    "# to interpolate chemical potentials\n",
    "def h(phi):\n",
    "    \n",
    "    return phi**2*(3-2*phi)\n",
    "\n",
    "# to interpolate mobilities\n",
    "def g(phi):\n",
    "    \n",
    "    return phi**2*(3-2*phi)"
   ]
  },
  {
   "cell_type": "markdown",
   "metadata": {},
   "source": [
    "The terms in the brackets in the equation for $\\Omega$ correspond to the interfacial terms: $\\epsilon$ is the surface energy. $w(\\phi)$ is a double well potential given by\n",
    "\n",
    "$$w(\\phi) = W\\sigma \\phi^2 (1-\\phi)^2$$\n",
    "\n",
    "$a(\\nabla \\phi)$ is the anisotropy function, given by \n",
    "\n",
    "$$a(\\nabla \\phi) = \\sigma a_c^2(\\hat{n})(\\nabla \\phi)^2$$\n",
    "\n",
    "In this simulation, we take $a_c^2(\\hat{n}) =1$ that is, surface energy is isotropic."
   ]
  },
  {
   "cell_type": "code",
   "execution_count": 7,
   "metadata": {},
   "outputs": [],
   "source": [
    "def w(phi):\n",
    "    \n",
    "    return sigma*W*phi**2*(1-phi)**2\n",
    "\n",
    "\n",
    "def an(dphi):\n",
    "    \n",
    "    return sigma*dphi**2"
   ]
  },
  {
   "cell_type": "markdown",
   "metadata": {},
   "source": [
    "We're changing the independant variable from $c$ to $\\mu$, so it makes sense to write functions converting them"
   ]
  },
  {
   "cell_type": "code",
   "execution_count": 23,
   "metadata": {},
   "outputs": [],
   "source": [
    "def mu_s(c,T):\n",
    "    \n",
    "    return 2*a_bcc(T)*c + b_bcc(T)\n",
    "\n",
    "def mu_l(c,T):\n",
    "    \n",
    "    return 2*a_liq(T)*c + b_liq(T)"
   ]
  },
  {
   "cell_type": "code",
   "execution_count": 9,
   "metadata": {},
   "outputs": [],
   "source": [
    "def c_s(mu,T):\n",
    "    \n",
    "    return (mu - b_bcc(T))/(2*a_bcc(T))\n",
    "\n",
    "def c_l(mu,T):\n",
    "    \n",
    "    return (mu - b_liq(T))/(2*a_liq(T))"
   ]
  },
  {
   "cell_type": "code",
   "execution_count": 10,
   "metadata": {},
   "outputs": [],
   "source": [
    "def c(mu,T,phi):\n",
    "    \n",
    "    return h(phi)*c_s(mu,T) + (1-h(phi))*c_l(mu,T)\n",
    "\n",
    "# Grand potential densities\n",
    "\n",
    "def gp_s(mu,T,phi):\n",
    "    \n",
    "    C = c(mu,T,phi)\n",
    "    \n",
    "    return f_s(C,T) - mu*C/V_m\n",
    "\n",
    "def gp_l(mu,T,phi):\n",
    "    \n",
    "    C = c(mu,T,phi)\n",
    "    \n",
    "    return f_l(C,T) - mu*C/V_m\n",
    "\n",
    "# interpolated grand potential\n",
    "\n",
    "def gp(mu,T,phi):\n",
    "    \n",
    "    c = c(mu,T,phi)\n",
    "    \n",
    "    return h(phi)*gp_s(mu,T,phi) + (1-h(phi))*gp_l(mu,T,phi)"
   ]
  },
  {
   "cell_type": "code",
   "execution_count": 26,
   "metadata": {},
   "outputs": [
    {
     "name": "stdout",
     "output_type": "stream",
     "text": [
      "951991912.6114345\n",
      "947359987.0627813\n",
      "1588800570.4\n",
      "2030118416.0\n",
      "-15856874468.003222\n",
      "0.22643322293274398\n",
      "0.21835829215218072\n",
      "-15872797116.524475\n"
     ]
    }
   ],
   "source": [
    "# Testing\n",
    "\n",
    "print(mu_s(3.34696064e-01,1805))\n",
    "print(mu_l(3.06752518e-01,1805))\n",
    "\n",
    "print(mu_s(0.4,1800))\n",
    "print(mu_l(0.4,1800))\n",
    "\n",
    "print(gp_s(942.6142621057734,1812,1))\n",
    "print(c_s(942.8477208617364,1812))\n",
    "print(c_l(942.6142621057734,1812))\n",
    "print(gp_l(942.8477208617364,1812,0))"
   ]
  },
  {
   "cell_type": "markdown",
   "metadata": {},
   "source": [
    "## Evolution equations\n",
    "\n",
    "The evolution equations for the phase field and the chemical potetial field are, respectively\n",
    "\n",
    "$$w\\epsilon \\frac{d\\phi}{dt} = \\epsilon\\sigma\\nabla^2\\phi - \\frac{1}{\\epsilon} 2W\\sigma\\phi(1-\\phi) - (\\Psi_s - \\Psi_l)6\\phi(1-\\phi)$$\n",
    "\n",
    "$$\\bigg[ \\frac{h_s(\\phi)}{2a_s} + \\frac{[1-h_s(\\phi)]}{2a_l}\\bigg] \\frac{d\\mu}{dt} = \\frac{D_l}{2a_l}[1-g_s(\\phi)] \\nabla^2 \\mu - 6(c_s - c_l)\\phi(1-\\phi)\\frac{d \\phi}{dt}$$\n",
    "\n",
    "Where $a_s$ and $a_l$ are leading constants of the parabolic approximations to solid and liquid free energies, respectively. $D_l$ is the diffusivity in liquid. $D_s$ is assumed to be zero."
   ]
  },
  {
   "cell_type": "code",
   "execution_count": 12,
   "metadata": {},
   "outputs": [],
   "source": [
    "# Define some useful functions\n",
    "\n",
    "def grad(phi):\n",
    "    \n",
    "    grad = np.zeros(len(phi))\n",
    "    for i in range(len(phi)-2):\n",
    "        \n",
    "        grad[i+1] = (phi[i+2] - phi[i])/(2*dx)\n",
    "    \n",
    "    return grad\n",
    "\n",
    "def lap(phi):\n",
    "    \n",
    "    lap = np.zeros(len(phi))\n",
    "    for i in range(len(phi)-2):\n",
    "        \n",
    "        lap[i+1] = (phi[i+2] - 2*phi[i+1] + phi[i])/dx**2\n",
    "        \n",
    "    return lap\n",
    "\n",
    "def apply_bc_phi(phi):\n",
    "    \n",
    "    #dirichlet bc\n",
    "    phi[0] = 1\n",
    "    phi[-1] = 0\n",
    "    \n",
    "    return phi\n",
    "\n",
    "def apply_bc_mu(mu):\n",
    "    \n",
    "    # neumann bc\n",
    "    mu[0] = mu[1]\n",
    "    mu[-1] = mu[-2]\n",
    "    \n",
    "    return mu"
   ]
  },
  {
   "cell_type": "code",
   "execution_count": 22,
   "metadata": {},
   "outputs": [
    {
     "data": {
      "text/plain": [
       "[<matplotlib.lines.Line2D at 0x7f6a33f27290>]"
      ]
     },
     "execution_count": 22,
     "metadata": {},
     "output_type": "execute_result"
    },
    {
     "data": {
      "image/png": "[encoded data removed]",
      "text/plain": [
       "<Figure size 432x288 with 1 Axes>"
      ]
     },
     "metadata": {
      "needs_background": "light"
     },
     "output_type": "display_data"
    }
   ],
   "source": [
    "# One-step test\n",
    "\n",
    "phi_t = []\n",
    "mu_t = []\n",
    "\n",
    "mx = 300\n",
    "\n",
    "phi = np.zeros(mx)\n",
    "phi[:100] = 1\n",
    "\n",
    "cs = np.ones(mx)*3.06752518e-01\n",
    "cs[:100] = 3.34696064e-01\n",
    "\n",
    "mus = np.zeros(mx)\n",
    "mus[:100] = mu_s(cs[:100],T)\n",
    "mus[100:] = mu_l(cs[100:],T)\n",
    "\n",
    "phi_t.append(phi)\n",
    "plt.plot(phi)\n",
    "mu_t.append(mus)\n",
    "\n",
    "plt.plot(gp_s(mus,T,phi) - gp_l(mus,T,phi))"
   ]
  },
  {
   "cell_type": "code",
   "execution_count": 15,
   "metadata": {},
   "outputs": [
    {
     "name": "stdout",
     "output_type": "stream",
     "text": [
      "[1.         1.         1.         1.         1.         1.\n",
      " 1.         1.         1.         1.         1.         1.\n",
      " 1.         1.         1.         1.         1.         1.\n",
      " 1.         1.         1.         1.         1.         1.\n",
      " 1.         1.         1.         1.         1.         1.\n",
      " 1.         1.         1.         1.         1.         1.\n",
      " 1.         1.         1.         1.         1.         1.\n",
      " 1.         1.         1.         1.         1.         1.\n",
      " 1.         1.         1.         1.         1.         1.\n",
      " 1.         1.         1.         1.         1.         1.\n",
      " 1.         1.         1.         1.         1.         1.\n",
      " 1.         1.         1.         1.         1.         1.\n",
      " 1.         1.         1.         1.         1.         1.\n",
      " 1.         1.         1.         1.         1.         1.\n",
      " 1.         1.         1.         1.         1.         1.\n",
      " 1.         1.         1.         1.         1.         1.\n",
      " 1.         1.         1.         0.99726508 0.00273492 0.\n",
      " 0.         0.         0.         0.         0.         0.\n",
      " 0.         0.         0.         0.         0.         0.\n",
      " 0.         0.         0.         0.         0.         0.\n",
      " 0.         0.         0.         0.         0.         0.\n",
      " 0.         0.         0.         0.         0.         0.\n",
      " 0.         0.         0.         0.         0.         0.\n",
      " 0.         0.         0.         0.         0.         0.\n",
      " 0.         0.         0.         0.         0.         0.\n",
      " 0.         0.         0.         0.         0.         0.\n",
      " 0.         0.         0.         0.         0.         0.\n",
      " 0.         0.         0.         0.         0.         0.\n",
      " 0.         0.         0.         0.         0.         0.\n",
      " 0.         0.         0.         0.         0.         0.\n",
      " 0.         0.         0.         0.         0.         0.\n",
      " 0.         0.         0.         0.         0.         0.\n",
      " 0.         0.         0.         0.         0.         0.\n",
      " 0.         0.         0.         0.         0.         0.\n",
      " 0.         0.         0.         0.         0.         0.\n",
      " 0.         0.         0.         0.         0.         0.\n",
      " 0.         0.         0.         0.         0.         0.\n",
      " 0.         0.         0.         0.         0.         0.\n",
      " 0.         0.         0.         0.         0.         0.\n",
      " 0.         0.         0.         0.         0.         0.\n",
      " 0.         0.         0.         0.         0.         0.\n",
      " 0.         0.         0.         0.         0.         0.\n",
      " 0.         0.         0.         0.         0.         0.\n",
      " 0.         0.         0.         0.         0.         0.\n",
      " 0.         0.         0.         0.         0.         0.\n",
      " 0.         0.         0.         0.         0.         0.\n",
      " 0.         0.         0.         0.         0.         0.\n",
      " 0.         0.         0.         0.         0.         0.\n",
      " 0.         0.         0.         0.         0.         0.\n",
      " 0.         0.         0.         0.         0.         0.        ]\n"
     ]
    },
    {
     "data": {
      "text/plain": [
       "[<matplotlib.lines.Line2D at 0x7f6a33fcad10>]"
      ]
     },
     "execution_count": 15,
     "metadata": {},
     "output_type": "execute_result"
    },
    {
     "data": {
      "image/png": "[encoded data removed]",
      "text/plain": [
       "<Figure size 432x288 with 1 Axes>"
      ]
     },
     "metadata": {
      "needs_background": "light"
     },
     "output_type": "display_data"
    }
   ],
   "source": [
    "dphi_dt = (ep*sigma*lap(phi) - 2*W*sigma*phi*(1-phi)/ep - (gp_s(mus,T,phi) - gp_l(mus,T,phi))*6*phi*(1-phi))/(tau*ep)\n",
    "phi += dphi_dt*dt\n",
    "phi_t.append(phi)\n",
    "    \n",
    "dmu_dt = (0.5*D_l/a_liq(T)*(1-g(phi))*lap(mus) - 6*(c_s(mus,T) - c_l(mus,T))*phi*(1-phi)*dphi_dt)\\\n",
    "/(0.5*h(phi)/a_bcc(T) + 0.5*(1-h(phi))/a_liq(T))\n",
    "    \n",
    "mus += dmu_dt*dt\n",
    "mu_t.append(mus)\n",
    "    \n",
    "apply_bc_phi(phi)\n",
    "apply_bc_mu(mus)\n",
    "\n",
    "print(phi)\n",
    "\n",
    "plt.plot(phi)"
   ]
  },
  {
   "cell_type": "code",
   "execution_count": 16,
   "metadata": {},
   "outputs": [],
   "source": [
    "# 1D simulation\n",
    "\n",
    "phi_t = []\n",
    "mu_t = []\n",
    "\n",
    "mx = 300\n",
    "\n",
    "phi = np.zeros(mx)\n",
    "phi[:100] = 1\n",
    "\n",
    "cs = np.ones(mx)*3.06752518e-01\n",
    "cs[:100] = 3.34696064e-01\n",
    "\n",
    "mus = np.zeros(mx)\n",
    "mus[:100] = mu_s(cs[:100],T)\n",
    "mus[100:] = mu_l(cs[100:],T)\n",
    "\n",
    "timesteps = 10000\n",
    "\n",
    "phi_t.append(np.copy(phi))\n",
    "mu_t.append(np.copy(mus))\n",
    "\n",
    "for t in range(timesteps):\n",
    "    \n",
    "    dphi_dt = (ep*sigma*lap(phi) - 2*W*sigma*phi*(1-phi)/ep - (gp_s(mus,T,phi) - gp_l(mus,T,phi))*6*phi*(1-phi))/(tau*ep)\n",
    "    phi += dphi_dt*dt\n",
    "    phi_t.append(np.copy(phi))\n",
    "    \n",
    "    dmu_dt = (0.5*D_l/a_liq(T)*(1-g(phi))*lap(mus) - 6*(c_s(mus,T) - c_l(mus,T))*phi*(1-phi)*dphi_dt)\\\n",
    "    /(0.5*h(phi)/a_bcc(T) + 0.5*(1-h(phi))/a_liq(T))\n",
    "    \n",
    "    mus += dmu_dt*dt\n",
    "    mu_t.append(np.copy(mus))\n",
    "    \n",
    "    apply_bc_phi(phi)\n",
    "    apply_bc_mu(mus)"
   ]
  },
  {
   "cell_type": "code",
   "execution_count": 17,
   "metadata": {},
   "outputs": [],
   "source": [
    "from ipywidgets import interact, interactive, fixed, interact_manual\n",
    "import ipywidgets as widgets"
   ]
  },
  {
   "cell_type": "code",
   "execution_count": 18,
   "metadata": {},
   "outputs": [
    {
     "data": {
      "application/vnd.jupyter.widget-view+json": {
       "model_id": "d14f3648657a41018736ff88ef505d45",
       "version_major": 2,
       "version_minor": 0
      },
      "text/plain": [
       "interactive(children=(IntSlider(value=4900, description='i', max=9999, step=100), Output()), _dom_classes=('wi…"
      ]
     },
     "metadata": {},
     "output_type": "display_data"
    }
   ],
   "source": [
    "%matplotlib inline\n",
    "@interact(i=(0,9999,100))\n",
    "def plotfn(i):\n",
    "    \n",
    "    fig,ax = plt.subplots(figsize=(10,8))\n",
    "\n",
    "    ax.plot(phi_t[i],label='Phi',marker='o')\n",
    "    ax.set_xlabel(\"x\" + str(dx))\n",
    "    ax.legend()"
   ]
  },
  {
   "cell_type": "code",
   "execution_count": 19,
   "metadata": {},
   "outputs": [
    {
     "data": {
      "application/vnd.jupyter.widget-view+json": {
       "model_id": "59204713e4fd4bb6b1e0415827767b16",
       "version_major": 2,
       "version_minor": 0
      },
      "text/plain": [
       "interactive(children=(IntSlider(value=4900, description='i', max=9999, step=100), Output()), _dom_classes=('wi…"
      ]
     },
     "metadata": {},
     "output_type": "display_data"
    }
   ],
   "source": [
    "%matplotlib inline\n",
    "@interact(i=(0,9999,100))\n",
    "def plotfn(i):\n",
    "    \n",
    "    fig,ax = plt.subplots(figsize=(10,8))\n",
    "\n",
    "    ax.plot(c(mu_t[i],T,phi_t[i]),label='C')\n",
    "    ax.legend()"
   ]
  },
  {
   "cell_type": "code",
   "execution_count": 20,
   "metadata": {},
   "outputs": [
    {
     "name": "stdout",
     "output_type": "stream",
     "text": [
      "951991912.6114345\n",
      "947359987.0627813\n"
     ]
    }
   ],
   "source": [
    "print(mu_s(3.34696064e-01,1805))\n",
    "print(mu_l(3.06752518e-01,1805))"
   ]
  }
 ],
 "metadata": {
  "kernelspec": {
   "display_name": "Python 3",
   "language": "python",
   "name": "python3"
  },
  "language_info": {
   "codemirror_mode": {
    "name": "ipython",
    "version": 3
   },
   "file_extension": ".py",
   "mimetype": "text/x-python",
   "name": "python",
   "nbconvert_exporter": "python",
   "pygments_lexer": "ipython3",
   "version": "3.7.4"
  }
 },
 "nbformat": 4,
 "nbformat_minor": 2
}
