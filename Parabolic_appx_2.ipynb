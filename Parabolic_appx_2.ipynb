{
 "cells": [
  {
   "cell_type": "markdown",
   "metadata": {},
   "source": [
    "# Parabolic approximation to free energies\n",
    "\n",
    "We gotts find $a(T),b(T),c(T)$ (for each phase) such that\n",
    "\n",
    "$$p(X_{Cr},T) = a(T)X_{Cr}^2 + b(T)X_{Cr} +c(T)$$\n",
    "\n",
    "is a good approximation to the free energy density $f = \\frac{G}{V_m}$.\n",
    "\n",
    "Here, \"good\" approximation means satisfying the following conditions:\n",
    "\n",
    "1. $$f(x_{s/l},T) = p(x_{s/l},T)$$.\n",
    "\n",
    "2. $$\\frac{\\partial f(x,T)}{\\partial x} \\bigg|_{x_{s/l}}= \\frac{\\partial p(x,T)}{\\partial x} \\bigg|_{x_{s/l}}$$.\n",
    "\n",
    "3. $$\\frac{\\partial^2 f(x,T)}{\\partial x^2} \\bigg|_{x_{s/l}}= \\frac{\\partial^2 p(x,T)}{\\partial x^2} \\bigg|_{x_{s/l}}$$"
   ]
  },
  {
   "cell_type": "code",
   "execution_count": 1,
   "metadata": {},
   "outputs": [],
   "source": [
    "import numpy as np\n",
    "import matplotlib.pyplot as plt\n",
    "import scipy.optimize as opt\n",
    "\n",
    "from ipywidgets import interact, interactive, fixed, interact_manual\n",
    "import ipywidgets as widgets"
   ]
  },
  {
   "cell_type": "code",
   "execution_count": 2,
   "metadata": {},
   "outputs": [],
   "source": [
    "# Define standard gibbs energies of components\n",
    "\n",
    "R = 8.31448\n",
    "V_m = 7.09e-6 #m^3/mol\n",
    "\n",
    "def G0_Cr_bcc(T):\n",
    "    \n",
    "    # -439.0 to account for difference in standard enthalpies\n",
    "    \n",
    "    return (T<2180)*(-439.0 -8851.93 + 157.48*T -26.908*T*np.log(T) + 1.89435E-3 * T**2 -1.47721E-6*T**3 + 139250/T) +\\\n",
    "    (T>=2180)*(-34864+344.18*T-50*T*np.log(T)-2.88526E32/T**9)\n",
    "\n",
    "def G0_Fe_bcc(T):\n",
    "    \n",
    "    return (T<1811)*(1224.83 + 124.134*T - 23.5143*T*np.log(T) -4.3975E-3 * T**2 - 5.89269E-8*T**3 + 77358.5/T) +\\\n",
    "    (T>=1811)*(-25384.451+299.31255*T -46*T*np.log(T) +2.2960305E31/T**9)\n",
    "\n",
    "\n",
    "def G0_Fe_liq(T):\n",
    "    \n",
    "    return (T<1811)*(G0_Fe_bcc(T) + 12040.17 - 6.55843*T - 3.6751551E-21*T**7) +\\\n",
    "    (T>=1811)*(-10839.7+291.302*T-46*T*np.log(T))\n",
    "\n",
    "def G0_Cr_liq(T):\n",
    "    \n",
    "    return (T<2180)*(G0_Cr_bcc(T) + 24335.93 - 11.42*T + 2.37615E-21*T**7) +\\\n",
    "    (T>=2180)*(-16459+335.618*T-50*T*np.log(T))\n",
    "\n",
    "\n",
    "# Excess terms\n",
    "\n",
    "def Gxs_bcc(x,T):\n",
    "    \n",
    "    return x*(1-x)*(20500-9.68*T)\n",
    "\n",
    "def Gxs_liq(x,T):\n",
    "    \n",
    "    return x*(1-x)*(-14550+6.65*T)\n",
    "\n",
    "# Magnetic Term\n",
    "\n",
    "def GM(x,T):\n",
    "    \n",
    "    Tc = 1043*(1-x) - 311.5*x + x*(1-x)*(1650+550*(2*x-1))\n",
    "    t = T/Tc\n",
    "    b = 2.22*(1-x) - 0.008*x -x*(1-x)*0.85\n",
    "    \n",
    "    # different equations for t>1 and t<1\n",
    "        \n",
    "    f = (t>1)*(-6.417E-2/t**5 - 2.037E-3/t**15 -4.278E-4/t**25) +\\\n",
    "    (t<=1)*(-0.90530/t +1.0 + 0.153*t**3 - 6.8E-3*t**9 - 1.53E-3*t**15)\n",
    "\n",
    "    \n",
    "    return R*T*np.log(b+1)*f"
   ]
  },
  {
   "cell_type": "code",
   "execution_count": 3,
   "metadata": {},
   "outputs": [],
   "source": [
    "# Free energy densities (in J/cm^3)\n",
    "\n",
    "def f_bcc(x,T):\n",
    "    \n",
    "    return (x*G0_Cr_bcc(T) + (1-x)*G0_Fe_bcc(T) + R*T*(x*np.log(x)+(1-x)*np.log(1-x))+ Gxs_bcc(x,T) + GM(x,T))/V_m\n",
    "\n",
    "def f_liq(x,T):\n",
    "    \n",
    "    return (x*G0_Cr_liq(T) + (1-x)*G0_Fe_liq(T) + R*T*(x*np.log(x)+(1-x)*np.log(1-x)) + Gxs_liq(x,T))/V_m"
   ]
  },
  {
   "cell_type": "code",
   "execution_count": 4,
   "metadata": {},
   "outputs": [],
   "source": [
    "# First derivatives (J/cm^4)\n",
    "\n",
    "def dfdx_bcc(x,T):\n",
    "    \n",
    "    Tc = 1043*(1-x) - 311.5*x + x*(1-x)*(1650+550*(2*x-1))\n",
    "    t = T/Tc\n",
    "    \n",
    "    b = 2.22*(1-x) - 0.008*x -x*(1-x)*0.85\n",
    "    f = (t>1)*(-6.417E-2/t**5 - 2.037E-3/t**15 -4.278E-4/t**25) +\\\n",
    "    (t<=1)*(-0.90530/t +1.0 + 0.153*t**3 - 6.8E-3*t**9 - 1.53E-3*t**15)\n",
    "    \n",
    "    dbdx = -2.228 + (2*x-1)*0.85\n",
    "    dGMdx = R*T/(b+1)*f*dbdx\n",
    "    \n",
    "    return (G0_Cr_bcc(T) - G0_Fe_bcc(T) + R*T*(np.log(x/(1-x))) + (1-2*x)*(20500-9.68*T) + dGMdx)/V_m\n",
    "\n",
    "def dfdx_liq(x,T):\n",
    "\n",
    "    return (G0_Cr_liq(T) - G0_Fe_liq(T) + R*T*(np.log(x/(1-x))) +\\\n",
    "    (1-2*x)*(-14450+6.65*T))/V_m"
   ]
  },
  {
   "cell_type": "code",
   "execution_count": 5,
   "metadata": {},
   "outputs": [],
   "source": [
    "# Second derivatives (J/cm^4)\n",
    "\n",
    "def d2fdx2_bcc(x,T):\n",
    "    \n",
    "    Tc = 1043*(1-x) - 311.5*x + x*(1-x)*(1650+550*(2*x-1))\n",
    "    t = T/Tc\n",
    "    \n",
    "    b = 2.22*(1-x) - 0.008*x -x*(1-x)*0.85\n",
    "    f = (t>1)*(-6.417E-2/t**5 - 2.037E-3/t**15 -4.278E-4/t**25) +\\\n",
    "    (t<=1)*(-0.90530/t +1.0 + 0.153*t**3 - 6.8E-3*t**9 - 1.53E-3*t**15)\n",
    "    \n",
    "    dbdx = -2.228 + (2*x-1)*0.85\n",
    "    d2bdx2 = 2*0.85\n",
    "    \n",
    "    dGMdx = R*T/(b+1)*f*dbdx\n",
    "    d2GMdx2 = -R*T/(b+1)**2 * f * dbdx**2 + R*T/(b+1)*f*d2bdx2\n",
    "    \n",
    "    return (R*T/(x*(1-x)) -2*(20500-9.68*T) + d2GMdx2)/V_m\n",
    "\n",
    "def d2fdx2_liq(x,T):\n",
    "\n",
    "    return (R*T/(x*(1-x)) -2*(-14450+6.65*T))/V_m"
   ]
  },
  {
   "cell_type": "markdown",
   "metadata": {},
   "source": [
    "## Solving for parabolic constants"
   ]
  },
  {
   "cell_type": "markdown",
   "metadata": {},
   "source": [
    "$$p(X_{Cr},T) = a(T)X_{Cr}^2 + b(T)X_{Cr} +c(T)$$ Let's take $x=X_{Cr}$\n",
    "\n",
    "$$\\frac{\\partial p}{\\partial x} = 2a(T)x + b(T)$$\n",
    "\n",
    "$$\\frac{\\partial^2p}{\\partial x^2} = 2a(T)$$"
   ]
  },
  {
   "cell_type": "code",
   "execution_count": 6,
   "metadata": {},
   "outputs": [
    {
     "data": {
      "text/plain": [
       "<matplotlib.legend.Legend at 0x7f4920620090>"
      ]
     },
     "execution_count": 6,
     "metadata": {},
     "output_type": "execute_result"
    },
    {
     "data": {
      "image/png": "[encoded data removed]",
      "text/plain": [
       "<Figure size 576x432 with 1 Axes>"
      ]
     },
     "metadata": {
      "needs_background": "light"
     },
     "output_type": "display_data"
    }
   ],
   "source": [
    "# load data and plot phase diagram\n",
    "\n",
    "data = np.genfromtxt('eq_data.csv',delimiter=',')\n",
    "data = data[data[:,0]<2080]\n",
    "\n",
    "fig,ax = plt.subplots(figsize=(8,6))\n",
    "\n",
    "ax.plot(data[:,1],data[:,0],label='liquidus')\n",
    "ax.plot(data[:,2],data[:,0],label='solidus')\n",
    "ax.legend()"
   ]
  },
  {
   "cell_type": "code",
   "execution_count": 7,
   "metadata": {},
   "outputs": [],
   "source": [
    "bcc_consts = []\n",
    "liq_consts = []\n",
    "\n",
    "for pt in data:\n",
    "    \n",
    "    T = pt[0]\n",
    "    x_l = pt[1]\n",
    "    x_s = pt[2]\n",
    "    \n",
    "    #bcc\n",
    "    a_bcc = d2fdx2_bcc(x_s,T)/2\n",
    "    b_bcc = dfdx_bcc(x_s,T) - 2*a_bcc*x_s\n",
    "    c_bcc = f_bcc(x_s,T) - a_bcc*x_s**2 - b_bcc*x_s\n",
    "    \n",
    "    #liquid\n",
    "    a_liq = d2fdx2_liq(x_l,T)/2\n",
    "    b_liq = dfdx_liq(x_l,T) - 2*a_liq*x_l\n",
    "    c_liq = f_liq(x_l,T) - a_liq*x_l**2 - b_liq*x_l\n",
    "    \n",
    "    bcc_consts.append([T,a_bcc,b_bcc,c_bcc])\n",
    "    liq_consts.append([T,a_liq,b_liq,c_liq])"
   ]
  },
  {
   "cell_type": "code",
   "execution_count": 8,
   "metadata": {},
   "outputs": [],
   "source": [
    "bcc_consts = np.array(bcc_consts)\n",
    "liq_consts = np.array(liq_consts)"
   ]
  },
  {
   "cell_type": "code",
   "execution_count": 9,
   "metadata": {},
   "outputs": [
    {
     "data": {
      "text/plain": [
       "[<matplotlib.lines.Line2D at 0x7f49205c9110>]"
      ]
     },
     "execution_count": 9,
     "metadata": {},
     "output_type": "execute_result"
    },
    {
     "data": {
      "image/png": "[encoded data removed]",
      "text/plain": [
       "<Figure size 432x288 with 1 Axes>"
      ]
     },
     "metadata": {
      "needs_background": "light"
     },
     "output_type": "display_data"
    }
   ],
   "source": [
    "plt.plot(bcc_consts[:,0],bcc_consts[:,1])"
   ]
  },
  {
   "cell_type": "code",
   "execution_count": 10,
   "metadata": {},
   "outputs": [
    {
     "data": {
      "application/vnd.jupyter.widget-view+json": {
       "model_id": "b8cab23c82714d3c883056c792c0a6df",
       "version_major": 2,
       "version_minor": 0
      },
      "text/plain": [
       "interactive(children=(IntSlider(value=50, description='i'), Output()), _dom_classes=('widget-interact',))"
      ]
     },
     "metadata": {},
     "output_type": "display_data"
    }
   ],
   "source": [
    "@interact(i=(0,100))\n",
    "def plotfn(i):\n",
    "    \n",
    "    xs = np.linspace(0.05,0.9)\n",
    "    T = bcc_consts[i][0]\n",
    "    \n",
    "    x_l = data[i][1]\n",
    "    x_s = data[i][2]\n",
    "    \n",
    "    fig,ax = plt.subplots(figsize=(10,8))\n",
    "\n",
    "    ax.plot(xs,f_bcc(xs,T),label='BCC')\n",
    "    ax.plot(xs,f_liq(xs,T),label='liq')\n",
    "    ax.plot(xs,np.polyval(bcc_consts[i][1:],xs),label='BCC_appx',linestyle='--')\n",
    "    ax.plot(xs,np.polyval(liq_consts[i][1:],xs),label='liq_appx',linestyle='--')\n",
    "    \n",
    "    ax.axvline(x_l)\n",
    "    ax.axvline(x_s)\n",
    "    ax.legend()"
   ]
  },
  {
   "cell_type": "code",
   "execution_count": 11,
   "metadata": {},
   "outputs": [],
   "source": [
    "np.savetxt('bcc_consts.csv',bcc_consts,delimiter=',')\n",
    "np.savetxt('liq_consts.csv',liq_consts,delimiter=',')"
   ]
  },
  {
   "cell_type": "markdown",
   "metadata": {},
   "source": [
    "## Polynomial fits to the constants\n",
    "\n",
    "The constants were fitted to a 7th order polynomial in T using SciDavis. **Note: This will only work for the given temperature range (1790-2080K). Polynomials extrapolate badly**"
   ]
  },
  {
   "cell_type": "code",
   "execution_count": 12,
   "metadata": {},
   "outputs": [],
   "source": [
    "def a_bcc_poly(T):\n",
    "    \n",
    "    a0  = 1.48573160876362e+17\n",
    "    a1  = -533959921453932\n",
    "    a2  = 822132803086.902\n",
    "    a3  = -702980512.848244\n",
    "    a4  = 360524.747722819\n",
    "    a5  = -110.896060621478\n",
    "    a6  = 0.0189435512365575\n",
    "    a7  = -1.38632597908866e-06\n",
    "    \n",
    "    return a0+a1*T+a2*T**2+a3*T**3+a4*T**4+a5*T**5+a6*T**6+a7*T**7\n",
    "\n",
    "\n",
    "def b_bcc_poly(T):\n",
    "    \n",
    "    a0  = -5.74988758596428e+16\n",
    "    a1  = 205888139888278\n",
    "    a2  = -315807244126.921\n",
    "    a3  = 268986846.012062\n",
    "    a4  = -137396.890145104\n",
    "    a5  = 42.0876190128756\n",
    "    a6  = -0.00715869712372715\n",
    "    a7  = 5.21561342179072e-07\n",
    "    \n",
    "    return a0+a1*T+a2*T**2+a3*T**3+a4*T**4+a5*T**5+a6*T**6+a7*T**7\n",
    "\n",
    "def c_bcc_poly(T):\n",
    "    \n",
    "    a0  = 2.24280665461153e+15\n",
    "    a1  = -7672646510499.51\n",
    "    a2  = 11198716987.0004\n",
    "    a3  = -9033989.94168094\n",
    "    a4  = 4346.56671776632\n",
    "    a5  = -1.24600097323119\n",
    "    a6  = 0.000196784418722745\n",
    "    a7  = -1.31853064948386e-08\n",
    "    \n",
    "    return a0+a1*T+a2*T**2+a3*T**3+a4*T**4+a5*T**5+a6*T**6+a7*T**7\n",
    "\n",
    "\n",
    "def a_liq_poly(T):\n",
    "    \n",
    "    a0  = 1.34402214639946e+17\n",
    "    a1  = -483041743694295\n",
    "    a2  = 743752241655.028\n",
    "    a3  = -635975330.764811\n",
    "    a4  = 326169.32777634\n",
    "    a5  = -100.331108793173\n",
    "    a6  = 0.0171392878798394\n",
    "    a7  = -1.25432210980197e-06\n",
    "    \n",
    "    return a0+a1*T+a2*T**2+a3*T**3+a4*T**4+a5*T**5+a6*T**6+a7*T**7\n",
    "\n",
    "def b_liq_poly(T):\n",
    "    \n",
    "    a0  = -5.02636054089711e+16\n",
    "    a1  = 180002914938405\n",
    "    a2  = -276136627305.307\n",
    "    a3  = 235226732.682717\n",
    "    a4  = -120167.335429361\n",
    "    a5  = 36.8144381507289\n",
    "    a6  = -0.00626257159618173\n",
    "    a7  = 4.56330855404118e-07\n",
    "    \n",
    "    return a0+a1*T+a2*T**2+a3*T**3+a4*T**4+a5*T**5+a6*T**6+a7*T**7\n",
    "\n",
    "def c_liq_poly(T):\n",
    "    \n",
    "    a0  = 2.12467464521575e+15\n",
    "    a1  = -7310151586822.15\n",
    "    a2  = 10738897653.4874\n",
    "    a3  = -8727402.7907034\n",
    "    a4  = 4235.13227776304\n",
    "    a5  = -1.22627109914018\n",
    "    a6  = 0.00019598329226659\n",
    "    a7  = -1.33213290371344e-08\n",
    "\n",
    "    return a0+a1*T+a2*T**2+a3*T**3+a4*T**4+a5*T**5+a6*T**6+a7*T**7\n"
   ]
  },
  {
   "cell_type": "code",
   "execution_count": 13,
   "metadata": {},
   "outputs": [
    {
     "data": {
      "text/plain": [
       "-15402335003.625"
      ]
     },
     "execution_count": 13,
     "metadata": {},
     "output_type": "execute_result"
    }
   ],
   "source": [
    "c_liq_poly(1801)"
   ]
  },
  {
   "cell_type": "code",
   "execution_count": 14,
   "metadata": {},
   "outputs": [
    {
     "data": {
      "text/plain": [
       "[<matplotlib.lines.Line2D at 0x7f49204a24d0>]"
      ]
     },
     "execution_count": 14,
     "metadata": {},
     "output_type": "execute_result"
    },
    {
     "data": {
      "image/png": "[encoded data removed]",
      "text/plain": [
       "<Figure size 432x288 with 1 Axes>"
      ]
     },
     "metadata": {
      "needs_background": "light"
     },
     "output_type": "display_data"
    }
   ],
   "source": [
    "Tees = np.linspace(1750,2050,100)\n",
    "plt.plot(Tees,a_bcc_poly(Tees))"
   ]
  },
  {
   "cell_type": "code",
   "execution_count": 15,
   "metadata": {},
   "outputs": [],
   "source": [
    "# Now, for the approximate free energies\n",
    "\n",
    "def f_bcc_appx(x,T):\n",
    "    \n",
    "    a = a_bcc_poly(T)\n",
    "    b = b_bcc_poly(T)\n",
    "    c = c_bcc_poly(T)\n",
    "    \n",
    "    return a*x**2 + b*x + c\n",
    "\n",
    "def f_liq_appx(x,T):\n",
    "    \n",
    "    a = a_liq_poly(T)\n",
    "    b = b_liq_poly(T)\n",
    "    c = c_liq_poly(T)\n",
    "    \n",
    "    return a*x**2 + b*x + c"
   ]
  },
  {
   "cell_type": "code",
   "execution_count": 16,
   "metadata": {},
   "outputs": [
    {
     "data": {
      "application/vnd.jupyter.widget-view+json": {
       "model_id": "2f3324622e92436eabf57b585ca389b1",
       "version_major": 2,
       "version_minor": 0
      },
      "text/plain": [
       "interactive(children=(IntSlider(value=50, description='i'), Output()), _dom_classes=('widget-interact',))"
      ]
     },
     "metadata": {},
     "output_type": "display_data"
    }
   ],
   "source": [
    "@interact(i=(0,100))\n",
    "def plotfn(i):\n",
    "    \n",
    "    xs = np.linspace(0.05,0.9)\n",
    "    T = bcc_consts[i][0]\n",
    "    \n",
    "    x_l = data[i][1]\n",
    "    x_s = data[i][2]\n",
    "    \n",
    "    fig,ax = plt.subplots(figsize=(10,8))\n",
    "\n",
    "    ax.plot(xs,f_bcc(xs,T),label='BCC')\n",
    "    ax.plot(xs,f_liq(xs,T),label='liq')\n",
    "    ax.plot(xs,f_bcc_appx(xs,T),label='BCC_appx',linestyle='--')\n",
    "    ax.plot(xs,f_liq_appx(xs,T),label='liq_appx',linestyle='--')\n",
    "    ax.set_title('T = ' + str(T))\n",
    "    \n",
    "    ax.axvline(x_l)\n",
    "    ax.axvline(x_s)\n",
    "    ax.legend()"
   ]
  },
  {
   "cell_type": "code",
   "execution_count": 17,
   "metadata": {},
   "outputs": [
    {
     "name": "stdout",
     "output_type": "stream",
     "text": [
      "[1.86040000e+03 3.99549500e-01 4.47110358e-01]\n",
      "[1.86040000e+03 3.99549500e-01 4.47110358e-01]\n"
     ]
    }
   ],
   "source": [
    "# First, we take at composition X_l = 0.4\n",
    "pt = 64  # index of eq. temperature for given liquid composition\n",
    "uc = 64\n",
    "\n",
    "print(data[pt,:])\n",
    "print(data[uc,:])"
   ]
  },
  {
   "cell_type": "code",
   "execution_count": 18,
   "metadata": {},
   "outputs": [
    {
     "name": "stdout",
     "output_type": "stream",
     "text": [
      "[ 1.86040000e+03  4.06198909e+09 -1.70487317e+09 -1.63146625e+10]\n",
      "[ 1.86040000e+03  4.84005762e+09 -1.94024359e+09 -1.63540194e+10]\n",
      "[1.86040000e+03 3.99549500e-01 4.47110358e-01]\n"
     ]
    }
   ],
   "source": [
    "print(bcc_consts[uc])\n",
    "print(liq_consts[uc])\n",
    "print(data[pt])"
   ]
  },
  {
   "cell_type": "code",
   "execution_count": 19,
   "metadata": {},
   "outputs": [
    {
     "name": "stdout",
     "output_type": "stream",
     "text": [
      "1927441623.5438719\n",
      "1927441623.5438724\n"
     ]
    }
   ],
   "source": [
    "# Chem potentials at Undercooled temperature\n",
    "# For equilibrium compositions at original temperature.\n",
    "\n",
    "# mu_s\n",
    "\n",
    "print(2*bcc_consts[uc][1]*data[pt][2] + bcc_consts[uc][2])\n",
    "\n",
    "# mu_l\n",
    "\n",
    "print(2*liq_consts[uc][1]*data[pt][1] + liq_consts[uc][2]) "
   ]
  }
 ],
 "metadata": {
  "kernelspec": {
   "display_name": "Python 3",
   "language": "python",
   "name": "python3"
  },
  "language_info": {
   "codemirror_mode": {
    "name": "ipython",
    "version": 3
   },
   "file_extension": ".py",
   "mimetype": "text/x-python",
   "name": "python",
   "nbconvert_exporter": "python",
   "pygments_lexer": "ipython3",
   "version": "3.7.4"
  }
 },
 "nbformat": 4,
 "nbformat_minor": 2
}
